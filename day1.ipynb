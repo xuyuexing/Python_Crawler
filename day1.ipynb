{
 "cells": [
  {
   "cell_type": "markdown",
   "metadata": {},
   "source": [
    "# 1.1 学习get与post请求"
   ]
  },
  {
   "cell_type": "markdown",
   "metadata": {},
   "source": [
    "### 学习get与post请求，尝试使用requests或者是urllib用get方法向 https://www.baidu.com/ 发出一个请求，并将其返回结果输出。"
   ]
  },
  {
   "cell_type": "code",
   "execution_count": 8,
   "metadata": {},
   "outputs": [
    {
     "name": "stdout",
     "output_type": "stream",
     "text": [
      "{'Cache-Control': 'private, no-cache, no-store, proxy-revalidate, no-transform', 'Connection': 'Keep-Alive', 'Content-Encoding': 'gzip', 'Content-Type': 'text/html', 'Date': 'Sat, 11 May 2019 11:43:55 GMT', 'Last-Modified': 'Mon, 23 Jan 2017 13:23:50 GMT', 'Pragma': 'no-cache', 'Server': 'bfe/1.0.8.18', 'Set-Cookie': 'BDORZ=27315; max-age=86400; domain=.baidu.com; path=/', 'Transfer-Encoding': 'chunked'}\n",
      "\n",
      "{'User-Agent': 'python-requests/2.21.0', 'Accept-Encoding': 'gzip, deflate', 'Accept': '*/*', 'Connection': 'keep-alive'}\n"
     ]
    }
   ],
   "source": [
    "import requests\n",
    "url = 'https://www.baidu.com'\n",
    "header = {'Accept': '*/*',\n",
    "'Accept-Encoding': 'gzip, deflate, br',\n",
    "'Accept-Language': 'zh-CN',\n",
    "'Connection': 'keep-alive' }\n",
    "header1 = {'User-Agent': 'Mozilla/5.0 (Windows NT 10.0; Win64; x64) AppleWebKit/537.36 (KHTML, like Gecko) Chrome/64.0.3282.140 Safari/537.36 Edge/17.17134'}\n",
    "r = requests.get(url, header1)\n",
    "print(r.headers)\n",
    "print()\n",
    "print(r.request.headers)"
   ]
  },
  {
   "cell_type": "markdown",
   "metadata": {},
   "source": [
    "### 如果是断开了网络，再发出申请，结果又是什么。了解申请返回的状态码。"
   ]
  },
  {
   "cell_type": "markdown",
   "metadata": {},
   "source": [
    "Status code: r.status_code\n",
    "[Errno 11001]: getaddrinfo failed\n",
    "[200]: request get\n",
    "[302]: request post"
   ]
  },
  {
   "cell_type": "markdown",
   "metadata": {},
   "source": [
    "# 1.2 正则表达式\n",
    "\n",
    "\n",
    "- 正则表达式（Regular Expression）是一种文本模式，包括普通字符（例如，a到z之间的字母）和特殊字符（称为”元字符”）。正则表达式使用单个字符串来描述、匹配一系列匹配某个句法规则的字符串。"
   ]
  },
  {
   "cell_type": "markdown",
   "metadata": {},
   "source": [
    "### 结合requests、re两者的内容爬取 [豆瓣电影 Top 250](https://movie.douban.com/top250) 里的内容"
   ]
  },
  {
   "cell_type": "code",
   "execution_count": 5,
   "metadata": {},
   "outputs": [],
   "source": [
    "import requests\n",
    "import re\n",
    "import csv\n",
    "\n",
    "\n",
    "def movie_info(url):\n",
    "    headers = {\n",
    "     'User-Agent':\"Mozilla/5.0 (Macintosh; U; Intel Mac OS X 10_6_8; en-us) AppleWebKit/534.50 (KHTML, like Gecko) Version/5.1 Safari/534.50\"\n",
    "    }\n",
    "\n",
    "    res = requests.get(url, headers=headers)\n",
    "    ranks = re.findall(' <em class=\"\">(.*?)</em>',res.text, re.S)\n",
    "    names = re.findall('<span class=\"title\">([\\u4e00-\\u9fa5]+)</span>',res.text, re.S)\n",
    "    countries = re.findall('&nbsp;/&nbsp;([\\u4e00-\\u9fa5]+)&nbsp;/&nbsp;', res.text, re.S)\n",
    "    text = re.sub('导演: ',\"\",res.text)  # ：中文标点符号\n",
    "    directors = re.findall('<p class=\"\">(.*?)&nbsp;&nbsp;', text, re.S)\n",
    "    scores = re.findall('<span class=\"rating_num\" property=\"v:average\">(.*?)</span>',res.text,re.S)\n",
    "\n",
    "    for rank,name,country,director,score in zip(ranks,names,countries,directors,scores):\n",
    "        writer.writerow([rank,name,country,director,score])\n",
    "\n",
    "\n",
    "if __name__ == '__main__':\n",
    "\n",
    "    file = open('D://SelfLearning//Coding//Github//Python_Crawler/movie.csv','w+',encoding='utf-8',newline='')\n",
    "    writer = csv.writer(file)\n",
    "    writer.writerow(['rank','name','country','director','score'])\n",
    "\n",
    "    for i in range(0,250,25):\n",
    "        url = 'https://movie.douban.com/top250?start={}&filter='.format(i)\n",
    "        movie_info(url)"
   ]
  }
 ],
 "metadata": {
  "kernelspec": {
   "display_name": "Python 3",
   "language": "python",
   "name": "python3"
  },
  "language_info": {
   "codemirror_mode": {
    "name": "ipython",
    "version": 3
   },
   "file_extension": ".py",
   "mimetype": "text/x-python",
   "name": "python",
   "nbconvert_exporter": "python",
   "pygments_lexer": "ipython3",
   "version": "3.7.3"
  }
 },
 "nbformat": 4,
 "nbformat_minor": 2
}
