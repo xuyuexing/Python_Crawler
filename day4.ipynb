{
 "cells": [
  {
   "cell_type": "markdown",
   "metadata": {},
   "source": [
    "# 4.1 ** 实战大项目\n",
    "\n",
    "- 实战大项目：模拟登录丁香园，并抓取论坛页面所有的人员基本信息与回复帖子内容。\n",
    "\n",
    "- 丁香园论坛：http://www.dxy.cn/bbs/thread/626626#626626 。\n",
    "\n",
    "- 参考资料：https://blog.csdn.net/naonao77/article/details/88316754"
   ]
  },
  {
   "cell_type": "code",
   "execution_count": null,
   "metadata": {},
   "outputs": [],
   "source": [
    "import requests, json, re, random,time\n",
    "from bs4 import BeautifulSoup\n",
    "from selenium import webdriver\n",
    "from lxml import etree\n",
    "\n",
    "class getUrl(object):\n",
    "\t\"\"\"docstring for getUrl\"\"\"\n",
    "\tdef __init__(self):\n",
    "\t\tself.headers={\n",
    "            \"Connection\": \"keep-alive\",  \n",
    "            \"User-Agent\": \"Mozilla/5.0 (Windows NT 10.0; WOW64) AppleWebKit/537.36 \"  \n",
    "                          \"(KHTML, like Gecko) Chrome/51.0.2704.63 Safari/537.36\",  \n",
    "            \"Accept\": \"text/html,application/xhtml+xml,application/xml;q=0.9,image/webp,*/*;q=0.8\",  \n",
    "            \"Accept-Encoding\": \"gzip, deflate, sdch\",  \n",
    "            \"Accept-Language\": \"zh-CN,zh;q=0.8\"\n",
    "        };\n",
    "\n",
    "\tdef run(self):\n",
    "\t\tbrowser = webdriver.Chrome()\n",
    "\t\tbrowser.get('https://auth.dxy.cn/accounts/login?service=http://www.dxy.cn/bbs/index.html')\n",
    "\t\ttime.sleep(1)\n",
    "\t\t#切换账号密码登录表单\n",
    "\t\tjs1 = 'document.querySelector(\"#j_loginTab1\").style.display=\"none\";'\n",
    "\t\tbrowser.execute_script(js1)\n",
    "\t\ttime.sleep(1)\n",
    "\t\tjs2 = 'document.querySelector(\"#j_loginTab2\").style.display=\"block\";'\n",
    "\t\tbrowser.execute_script(js2)\n",
    "\t\t#输入账号密码\n",
    "\t\tinput_name = browser.find_element_by_name('username')\n",
    "\t\tinput_name.clear()\n",
    "\t\tinput_name.send_keys('13317750614')\n",
    "\t\tinput_pass = browser.find_element_by_name('password')\n",
    "\t\tinput_pass.clear()\n",
    "\t\tinput_pass.send_keys('zyp5802387')\n",
    "\t\tbrowser.find_element_by_xpath('//*[@class=\"form__button\"]/button').click()\n",
    "\t\t#此步骤应该有验证码，先跳过\n",
    "\t\ttime.sleep(10)\n",
    "\t\tcookie = browser.get_cookies()\n",
    "\t\tcookie_dict = {i['name']:i['value'] for i in cookie}\n",
    "\t\t#转到抓取页面\n",
    "\t\tbrowser.get(\"http://www.dxy.cn/bbs/thread/626626#626626\"); \n",
    "\t\thtml = browser.page_source\n",
    "\t\ttree = etree.HTML(html)\n",
    "\t\tuser = tree.xpath('//div[@id=\"postcontainer\"]//div[@class=\"auth\"]/a/text()')\n",
    "\t\tcontent = tree.xpath('//td[@class=\"postbody\"]')\n",
    "\t\tfor i in range(0,len(user)):\n",
    "\t\t\tresult = user[i].strip()+\":\"+content[i].xpath('string(.)').strip()\n",
    "\t\t\t#写入文件\n",
    "\t\t\tdir_file = open(\"DXY_records.txt\",'a', encoding=\"utf-8\")\n",
    "\t\t\tdir_file.write(result+\"\\n\")\n",
    "\t\t\tdir_file.write('*' * 80+\"\\n\")\n",
    "\t\t\tdir_file.close()\n",
    "\t\tprint('*' * 5 +\"抓取结束\"+'*' * 5)\n",
    "\n",
    "\n",
    "if __name__ == '__main__':\n",
    "\tgeturl = getUrl()\n",
    "\tgeturl.run()"
   ]
  }
 ],
 "metadata": {
  "kernelspec": {
   "display_name": "Python 3",
   "language": "python",
   "name": "python3"
  },
  "language_info": {
   "codemirror_mode": {
    "name": "ipython",
    "version": 3
   },
   "file_extension": ".py",
   "mimetype": "text/x-python",
   "name": "python",
   "nbconvert_exporter": "python",
   "pygments_lexer": "ipython3",
   "version": "3.7.3"
  }
 },
 "nbformat": 4,
 "nbformat_minor": 2
}
