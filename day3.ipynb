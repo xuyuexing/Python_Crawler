{
 "cells": [
  {
   "cell_type": "markdown",
   "metadata": {},
   "source": [
    "# 3.1 安装selenium并学习"
   ]
  },
  {
   "cell_type": "code",
   "execution_count": null,
   "metadata": {},
   "outputs": [],
   "source": [
    "import selenium as sm\n",
    "help(sm)"
   ]
  },
  {
   "cell_type": "code",
   "execution_count": null,
   "metadata": {},
   "outputs": [],
   "source": [
    "# 模拟百度搜索\n",
    "\n",
    "import time\n",
    "from selenium import webdriver\n",
    "from selenium.webdriver.chrome.options import Options\n",
    "\n",
    "wd = webdriver.Chrome()\n",
    "wd.get(\"https://www.baidu.com\")    # 打开百度浏览器\n",
    "wd.find_element_by_id(\"kw\").send_keys(\"selenium\")    # 定位输入框并输入关键字\n",
    "wd.find_element_by_id(\"su\").click()    # 点击[百度一下]搜索  \n",
    "time.sleep(3)    # 等待3秒\n",
    "wd.quit()    # 关闭浏览器"
   ]
  },
  {
   "cell_type": "code",
   "execution_count": null,
   "metadata": {},
   "outputs": [],
   "source": [
    "# 使用selenium模拟登陆163邮箱\n",
    "\n",
    "import time\n",
    "from selenium import webdriver\n",
    "\n",
    "\n",
    "browser = webdriver.Chrome()\n",
    "url = 'http://mail.163.com/'\n",
    "browser.get(url)\n",
    "time.sleep(3)\n",
    "\n",
    "browser.maximize_window()    # 打开网页窗口\n",
    "\n",
    "time.sleep(5)\n",
    "\n",
    "browser.switch_to.frame(0)    # 找到邮箱账号登录框对应的iframe,由于网页中iframe的id是动态的，所以不能用id寻找\n",
    "\n",
    "email = browser.find_element_by_name('email')    # 找到邮箱账号输入框\n",
    "\n",
    "email.send_keys('******@163.com')    # 将自己的邮箱地址输入到邮箱账号框中\n",
    "    \n",
    "password = browser.find_element_by_name('password')    # 找到密码输入框\n",
    "    \n",
    "password.send_keys('******')    # 输入自己的邮箱密码\n",
    "    \n",
    "login_em = browser.find_element_by_id('dologin')    # 找到登陆按钮\n",
    "    \n",
    "login_em.click()    # 点击登陆按钮\n",
    "      \n",
    "time.sleep(10)"
   ]
  },
  {
   "cell_type": "markdown",
   "metadata": {},
   "source": [
    "# 3.2 学习IP相关知识"
   ]
  },
  {
   "cell_type": "markdown",
   "metadata": {},
   "source": [
    "### 3.2.1 获取代理IP地址\n",
    "\n",
    "从该网站获取： https://www.xicidaili.com/ inspect -> 鼠标定位： 要获取的代理IP地址，属于class = \"odd\"标签的内容： 通过bs4的find_all(‘tr’)来获取所有IP"
   ]
  },
  {
   "cell_type": "code",
   "execution_count": null,
   "metadata": {},
   "outputs": [],
   "source": [
    "from bs4 import BeautifulSoup\n",
    "import requests\n",
    "import time\n",
    "\n",
    "def open_proxy_url(url):\n",
    "    user_agent = 'Mozilla/5.0 (Macintosh; Intel Mac OS X 10_14_2) AppleWebKit/537.36 (KHTML, like Gecko) Chrome/72.0.3626.119 Safari/537.36'\n",
    "    headers = {'User-Agent': user_agent}\n",
    "    try:\n",
    "        r = requests.get(url, headers = headers, timeout = 20)\n",
    "        r.raise_for_status()\n",
    "        r.encoding = r.apparent_encoding\n",
    "        return r.text\n",
    "    except:\n",
    "        print('无法访问网页' + url)\n",
    "\n",
    "\n",
    "def get_proxy_ip(response):\n",
    "    proxy_ip_list = []\n",
    "    soup = BeautifulSoup(response, 'html.parser')\n",
    "    proxy_ips = soup.find(id = 'ip_list').find_all('tr')\n",
    "    for proxy_ip in proxy_ips:\n",
    "        if len(proxy_ip.select('td')) >=8:\n",
    "            ip = proxy_ip.select('td')[1].text\n",
    "            port = proxy_ip.select('td')[2].text\n",
    "            protocol = proxy_ip.select('td')[5].text\n",
    "            if protocol in ('HTTP','HTTPS','http','https'):\n",
    "                proxy_ip_list.append(f'{protocol}://{ip}:{port}')\n",
    "    return proxy_ip_list\n",
    "\n",
    "if __name__ == '__main__':\n",
    "    proxy_url = 'https://www.xicidaili.com/'\n",
    "    text = open_proxy_url(proxy_url)\n",
    "    proxy_ip_filename = 'proxy_ip.txt'\n",
    "    with open(proxy_ip_filename, 'w') as f:\n",
    "        f.write(text)\n",
    "    text = open(proxy_ip_filename, 'r').read()\n",
    "    proxy_ip_list = get_proxy_ip(text)\n",
    "    for i in proxy_ip_list:\n",
    "        print(i)\n",
    "    print(len(proxy_ip_list))"
   ]
  },
  {
   "cell_type": "markdown",
   "metadata": {},
   "source": [
    "### 3.2.2 使用代理\n",
    "\n",
    "\n",
    "proxies的格式是一个字典： {‘http’: ‘http://IP:port‘,‘https’:'https://IP:port‘} 把它直接传入requests的get方法中即可 web_data = requests.get(url, headers=headers, proxies=proxies)\n",
    "\n",
    "\n",
    "### 3.2.3 确认代理IP地址有效性的三种方法\n",
    "\n",
    "\n",
    "无论是免费还是收费的代理网站，提供的代理IP都未必有效，我们应该验证一下，有效后，再放入我们的代理IP池中，以下通过几种方式：\n",
    "\n",
    "    验证返回码。访问网站，得到的返回码是200，则可用\n",
    "\n",
    "    真正的访问某些网站，获取title等，验证title与预计的相同\n",
    "\n",
    "    访问某些可以提供被访问IP的网站，类似于“查询我的IP”的网站，查看返回的IP地址是什么"
   ]
  },
  {
   "cell_type": "code",
   "execution_count": null,
   "metadata": {},
   "outputs": [],
   "source": [
    "# 返回验证码\n",
    "\n",
    "def check_proxy_avaliability_return(proxy):\n",
    "    url = 'http://www.baidu.com'\n",
    "    result = open_url_using_proxy(url, proxy)\n",
    "    VALID_PROXY = False\n",
    "    if result:\n",
    "        text, status_code = result\n",
    "        if status_code == 200:\n",
    "            print('有效代理IP: ' + proxy)\n",
    "        else:\n",
    "            print('无效代理IP: ' + proxy)"
   ]
  },
  {
   "cell_type": "code",
   "execution_count": null,
   "metadata": {},
   "outputs": [],
   "source": [
    "# 确认title\n",
    "\n",
    "def check_proxy_avaliability_title(proxy):\n",
    "    url = 'http://www.baidu.com'\n",
    "    text, status_code = open_url_using_proxy(url, proxy)\n",
    "    VALID = False\n",
    "    if status_code == 200:\n",
    "        if r_title:\n",
    "            if r_title[0] == '<title>百度一下，你就知道</title>':\n",
    "                VALID = True\n",
    "    if VALID:\n",
    "        print('有效代理IP: ' + proxy)\n",
    "    else:\n",
    "        print('无效代理IP: ' + proxy)"
   ]
  }
 ],
 "metadata": {
  "kernelspec": {
   "display_name": "Python 3",
   "language": "python",
   "name": "python3"
  },
  "language_info": {
   "codemirror_mode": {
    "name": "ipython",
    "version": 3
   },
   "file_extension": ".py",
   "mimetype": "text/x-python",
   "name": "python",
   "nbconvert_exporter": "python",
   "pygments_lexer": "ipython3",
   "version": "3.7.1"
  }
 },
 "nbformat": 4,
 "nbformat_minor": 2
}
